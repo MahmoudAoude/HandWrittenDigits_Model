{
 "cells": [
  {
   "cell_type": "markdown",
   "id": "1746e9b1",
   "metadata": {},
   "source": [
    "# Load The Model:"
   ]
  },
  {
   "cell_type": "code",
   "execution_count": 2,
   "id": "5ef7b36e",
   "metadata": {},
   "outputs": [],
   "source": [
    "import tensorflow as tf\n",
    "model = tf.keras.models.load_model('model_with_drop')"
   ]
  },
  {
   "cell_type": "markdown",
   "id": "f29c91b7",
   "metadata": {},
   "source": [
    "# Take a picture of the Written Number:"
   ]
  },
  {
   "cell_type": "code",
   "execution_count": null,
   "id": "b85d8705",
   "metadata": {},
   "outputs": [],
   "source": [
    "import cv2 as cv\n",
    "import sys\n",
    "\n",
    "cam = cv.VideoCapture(1)\n",
    "cam.set(3,640)\n",
    "cam.set(4,480)\n",
    "cv.namedWindow(\"test\")\n",
    "\n",
    "while True:\n",
    "    ret, frame = cam.read()\n",
    "    if not ret:\n",
    "        print(\"failed !\")\n",
    "        break\n",
    "    cv.imshow(\"test\",frame)\n",
    "    k = cv.waitKey(1)\n",
    "    if k%256 == 27:\n",
    "        #esc\n",
    "        print(\"Closing\")\n",
    "        break\n",
    "    elif k%256 == 32:\n",
    "        #space saving image\n",
    "        img_name = \"img1.jpg\"\n",
    "        cv.imwrite(img_name,frame)\n",
    "        print(\"{} written!\".format(img_name))\n",
    "#         img_counter += 1\n",
    "\n",
    "cam.release()\n",
    "\n",
    "cv.destroyAllWindows()"
   ]
  },
  {
   "cell_type": "markdown",
   "id": "630ced99",
   "metadata": {},
   "source": [
    "# Proccess the image:"
   ]
  },
  {
   "cell_type": "code",
   "execution_count": null,
   "id": "bdf13071",
   "metadata": {},
   "outputs": [],
   "source": [
    "#First Way:\n",
    "# reg_img = cv.imread('img1.jpg')\n",
    "# gray_img = cv.cvtColor(reg_img, cv.COLOR_BGR2GRAY)\n",
    "# gray_img = cv.bitwise_not(gray_img) #we need the white to be on the outside and the black on the inside.\n",
    "# (thresh, bw_img) = cv.threshold(gray_img, 147, 255, cv.THRESH_BINARY)\n",
    "# #147\n",
    "# cv.imwrite('img4.jpg',bw_img)\n",
    "# plt.imshow(bw_img, cmap=plt.cm.binary)\n",
    "# plt.show()\n",
    "\n",
    "\n",
    "# dim = (28, 28)\n",
    "# resized = cv.resize(bw_img, dim,cv.INTER_AREA) #resampling using pixel area relation.\n",
    "# cv.imwrite('img2.jpg',resized)\n",
    "# print('Resized Dimensions : ',resized.shape)\n",
    "# plt.imshow(resized, cmap=plt.cm.binary)\n",
    "# plt.show()\n",
    "\n",
    "# input_test = tf.keras.utils.normalize(resized, axis=1)\n",
    "# print('not normalized: ', resized)\n",
    "# print('Normalized: ', [input_test])\n",
    "# print('Reshaped: ', input_test.reshape(1,28,28))\n",
    "# reshape = input_test.reshape(1,28,28)\n",
    "# predict = new_model.predict([reshape])\n",
    "# for i in range (0,10):\n",
    "#     b = predict[0][i]\n",
    "#     print(\"Probability: \" , i,b)\n",
    "# print(\"Predicted a\" ,np.argmax(predict[0]))\n",
    "\n"
   ]
  },
  {
   "cell_type": "code",
   "execution_count": 5,
   "id": "81cd1273",
   "metadata": {},
   "outputs": [
    {
     "data": {
      "image/png": "[encoded data removed]",
      "text/plain": [
       "<Figure size 432x288 with 1 Axes>"
      ]
     },
     "metadata": {
      "needs_background": "light"
     },
     "output_type": "display_data"
    },
    {
     "name": "stdout",
     "output_type": "stream",
     "text": [
      "5\n"
     ]
    }
   ],
   "source": [
    "#Second Way:\n",
    "import matplotlib.pyplot as plt\n",
    "import numpy as np\n",
    "from keras.preprocessing.image import load_img\n",
    "from keras.preprocessing.image import img_to_array\n",
    "#Another way test:\n",
    "img = load_img('img1.jpg', color_mode = \"grayscale\", target_size=(28, 28),interpolation='nearest')\n",
    "# img.show()\n",
    "plt.imshow(img, cmap=plt.cm.binary)\n",
    "plt.show()\n",
    "img = img_to_array(img)\n",
    "img = img.reshape(1, 28, 28, 1)\n",
    "img = img.astype('float32')\n",
    "# img = img / 255.0\n",
    "img = 255-img\n",
    "predict = model.predict([img])\n",
    "print(np.argmax(predict[0]))"
   ]
  },
  {
   "cell_type": "code",
   "execution_count": null,
   "id": "8df7016b",
   "metadata": {},
   "outputs": [],
   "source": []
  }
 ],
 "metadata": {
  "kernelspec": {
   "display_name": "Python 3 (ipykernel)",
   "language": "python",
   "name": "python3"
  },
  "language_info": {
   "codemirror_mode": {
    "name": "ipython",
    "version": 3
   },
   "file_extension": ".py",
   "mimetype": "text/x-python",
   "name": "python",
   "nbconvert_exporter": "python",
   "pygments_lexer": "ipython3",
   "version": "3.9.7"
  }
 },
 "nbformat": 4,
 "nbformat_minor": 5
}
