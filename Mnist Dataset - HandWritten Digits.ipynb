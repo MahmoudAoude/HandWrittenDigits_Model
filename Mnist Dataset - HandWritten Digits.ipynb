{
 "cells": [
  {
   "cell_type": "markdown",
   "id": "98719a9d",
   "metadata": {},
   "source": [
    "# Importing and getting the DataSet"
   ]
  },
  {
   "cell_type": "code",
   "execution_count": 27,
   "id": "57a96c51",
   "metadata": {},
   "outputs": [],
   "source": [
    "import tensorflow as tf\n",
    "from keras import layers\n",
    "mnist = tf.keras.datasets.mnist # The hand-written digits 0-9, it is a 28x28 image\n",
    "\n",
    "#unpack the dataset\n",
    "(x_train, y_train),(x_test, y_test) = mnist.load_data()\n",
    "#scaling / nurmalizing the data.\n",
    "x_train = tf.keras.utils.normalize(x_train, axis=1)\n",
    "x_test = tf.keras.utils.normalize(x_test, axis=1)"
   ]
  },
  {
   "cell_type": "markdown",
   "id": "410c55ad",
   "metadata": {},
   "source": [
    "# Looking at the dataset"
   ]
  },
  {
   "cell_type": "code",
   "execution_count": 5,
   "id": "1cb6c512",
   "metadata": {},
   "outputs": [],
   "source": [
    "import matplotlib.pyplot as plt\n",
    "import numpy as np\n",
    "# x=1000\n",
    "# for i in range(15):\n",
    "#     plt.subplot(331)\n",
    "#     plt.imshow(x_train[x],cmap=plt.get_cmap('Blues'))\n",
    "#     x = x+5\n",
    "#     plt.show()"
   ]
  },
  {
   "cell_type": "markdown",
   "id": "ead7c052",
   "metadata": {},
   "source": [
    "# Creating The Model:"
   ]
  },
  {
   "cell_type": "code",
   "execution_count": 28,
   "id": "f6a41d04",
   "metadata": {},
   "outputs": [],
   "source": [
    "model = tf.keras.models.Sequential()\n",
    "model.add(tf.keras.layers.Flatten(input_shape=(28,28)))\n",
    "model.add(tf.keras.layers.Dense(100, activation=tf.nn.relu))\n",
    "model.add(layers.Dropout(0.5))\n",
    "model.add(tf.keras.layers.Dense(100, activation=tf.nn.relu))\n",
    "model.add(layers.Dropout(0.5))\n",
    "model.add(tf.keras.layers.Dense(10, activation=tf.nn.softmax))"
   ]
  },
  {
   "cell_type": "markdown",
   "id": "fd7fcd20",
   "metadata": {},
   "source": [
    "# Training "
   ]
  },
  {
   "cell_type": "code",
   "execution_count": 29,
   "id": "f7f2ab54",
   "metadata": {},
   "outputs": [
    {
     "name": "stdout",
     "output_type": "stream",
     "text": [
      "Epoch 1/20\n",
      "1875/1875 [==============================] - 3s 1ms/step - loss: 0.5600 - accuracy: 0.8304 - val_loss: 0.1970 - val_accuracy: 0.9413\n",
      "Epoch 2/20\n",
      "1875/1875 [==============================] - 2s 1ms/step - loss: 0.3095 - accuracy: 0.9118 - val_loss: 0.1658 - val_accuracy: 0.9511\n",
      "Epoch 3/20\n",
      "1875/1875 [==============================] - 2s 1ms/step - loss: 0.2625 - accuracy: 0.9258 - val_loss: 0.1337 - val_accuracy: 0.9590\n",
      "Epoch 4/20\n",
      "1875/1875 [==============================] - 3s 1ms/step - loss: 0.2331 - accuracy: 0.9329 - val_loss: 0.1206 - val_accuracy: 0.9639\n",
      "Epoch 5/20\n",
      "1875/1875 [==============================] - 2s 1ms/step - loss: 0.2168 - accuracy: 0.9380 - val_loss: 0.1123 - val_accuracy: 0.9662\n",
      "Epoch 6/20\n",
      "1875/1875 [==============================] - 3s 1ms/step - loss: 0.2013 - accuracy: 0.9418 - val_loss: 0.1161 - val_accuracy: 0.9664\n",
      "Epoch 7/20\n",
      "1875/1875 [==============================] - 2s 1ms/step - loss: 0.1919 - accuracy: 0.9444 - val_loss: 0.1056 - val_accuracy: 0.9686\n",
      "Epoch 8/20\n",
      "1875/1875 [==============================] - 3s 1ms/step - loss: 0.1879 - accuracy: 0.9454 - val_loss: 0.1083 - val_accuracy: 0.9680\n",
      "Epoch 9/20\n",
      "1875/1875 [==============================] - 3s 1ms/step - loss: 0.1785 - accuracy: 0.9479 - val_loss: 0.1033 - val_accuracy: 0.9694\n",
      "Epoch 10/20\n",
      "1875/1875 [==============================] - 3s 1ms/step - loss: 0.1737 - accuracy: 0.9498 - val_loss: 0.1046 - val_accuracy: 0.9686\n",
      "Epoch 11/20\n",
      "1875/1875 [==============================] - 3s 1ms/step - loss: 0.1677 - accuracy: 0.9505 - val_loss: 0.1088 - val_accuracy: 0.9676\n",
      "Epoch 12/20\n",
      "1875/1875 [==============================] - 2s 1ms/step - loss: 0.1651 - accuracy: 0.9521 - val_loss: 0.1024 - val_accuracy: 0.9705\n",
      "Epoch 13/20\n",
      "1875/1875 [==============================] - 2s 1ms/step - loss: 0.1605 - accuracy: 0.9531 - val_loss: 0.1061 - val_accuracy: 0.9711\n",
      "Epoch 14/20\n",
      "1875/1875 [==============================] - 2s 1ms/step - loss: 0.1601 - accuracy: 0.9541 - val_loss: 0.1044 - val_accuracy: 0.9712\n",
      "Epoch 15/20\n",
      "1875/1875 [==============================] - 2s 1ms/step - loss: 0.1551 - accuracy: 0.9542 - val_loss: 0.1039 - val_accuracy: 0.9703\n",
      "Epoch 16/20\n",
      "1875/1875 [==============================] - 3s 1ms/step - loss: 0.1499 - accuracy: 0.9557 - val_loss: 0.1008 - val_accuracy: 0.9722\n",
      "Epoch 17/20\n",
      "1875/1875 [==============================] - 3s 1ms/step - loss: 0.1455 - accuracy: 0.9569 - val_loss: 0.1012 - val_accuracy: 0.9738\n",
      "Epoch 18/20\n",
      "1875/1875 [==============================] - 2s 1ms/step - loss: 0.1499 - accuracy: 0.9563 - val_loss: 0.1030 - val_accuracy: 0.9721\n",
      "Epoch 19/20\n",
      "1875/1875 [==============================] - 2s 1ms/step - loss: 0.1452 - accuracy: 0.9566 - val_loss: 0.1040 - val_accuracy: 0.9704\n",
      "Epoch 20/20\n",
      "1875/1875 [==============================] - 3s 1ms/step - loss: 0.1421 - accuracy: 0.9579 - val_loss: 0.1052 - val_accuracy: 0.9707\n"
     ]
    }
   ],
   "source": [
    "model.compile(optimizer = 'adam' , loss = 'sparse_categorical_crossentropy',\n",
    "              metrics=['accuracy'])\n",
    "history = model.fit(x_train, y_train, validation_data=(x_test,y_test) , epochs = 20)"
   ]
  },
  {
   "cell_type": "code",
   "execution_count": 31,
   "id": "50f33e7c",
   "metadata": {},
   "outputs": [
    {
     "name": "stdout",
     "output_type": "stream",
     "text": [
      "313/313 [==============================] - 0s 1ms/step - loss: 0.1052 - accuracy: 0.9707\n",
      "0.1052393689751625 0.9707000255584717\n"
     ]
    }
   ],
   "source": [
    "evaluate_loss, evaluate_acc = model.evaluate(x_test, y_test)\n",
    "print(evaluate_loss, evaluate_acc)"
   ]
  },
  {
   "cell_type": "code",
   "execution_count": 32,
   "id": "490d629c",
   "metadata": {},
   "outputs": [
    {
     "data": {
      "text/plain": [
       "<AxesSubplot:>"
      ]
     },
     "execution_count": 32,
     "metadata": {},
     "output_type": "execute_result"
    },
    {
     "data": {
      "image/png": "[encoded data removed]",
      "text/plain": [
       "<Figure size 432x288 with 1 Axes>"
      ]
     },
     "metadata": {
      "needs_background": "light"
     },
     "output_type": "display_data"
    }
   ],
   "source": [
    "import pandas as pd\n",
    "pd.DataFrame(history.history).plot()"
   ]
  },
  {
   "cell_type": "code",
   "execution_count": 9,
   "id": "a249d6c1",
   "metadata": {},
   "outputs": [],
   "source": [
    "def eval_metric(model, history, metric_name):\n",
    "    metric = history.history[metric_name]\n",
    "    val_metric = history.history['val_' + metric_name]\n",
    "    e = range(1, 20 + 1)\n",
    "    plt.plot(e, metric, 'bo', label='Train ' + metric_name)\n",
    "    plt.plot(e, val_metric, 'b', label='Validation ' + metric_name)\n",
    "    plt.xlabel('Epoch number')\n",
    "    plt.ylabel(metric_name)\n",
    "    plt.title('Comparing training and validation ' + metric_name + ' for ' + model.name)\n",
    "    plt.legend()\n",
    "    plt.show()"
   ]
  },
  {
   "cell_type": "code",
   "execution_count": 33,
   "id": "2ab04886",
   "metadata": {},
   "outputs": [
    {
     "data": {
      "image/png": "[encoded data removed]",
      "text/plain": [
       "<Figure size 432x288 with 1 Axes>"
      ]
     },
     "metadata": {
      "needs_background": "light"
     },
     "output_type": "display_data"
    }
   ],
   "source": [
    "eval_metric(model, history, 'loss')"
   ]
  },
  {
   "cell_type": "code",
   "execution_count": 6,
   "id": "838f30cf",
   "metadata": {},
   "outputs": [],
   "source": [
    "#To save a model"
   ]
  },
  {
   "cell_type": "code",
   "execution_count": 41,
   "id": "6d6533ce",
   "metadata": {},
   "outputs": [
    {
     "name": "stdout",
     "output_type": "stream",
     "text": [
      "INFO:tensorflow:Assets written to: model_with_drop\\assets\n"
     ]
    }
   ],
   "source": [
    "# model.save('model_with_drop')\n",
    "# model.save('new_model')"
   ]
  },
  {
   "cell_type": "code",
   "execution_count": 20,
   "id": "35744633",
   "metadata": {},
   "outputs": [],
   "source": [
    "#Load a model\n",
    "new_model = tf.keras.models.load_model('new_model')"
   ]
  },
  {
   "cell_type": "code",
   "execution_count": 255,
   "id": "1de133a0",
   "metadata": {
    "scrolled": false
   },
   "outputs": [
    {
     "name": "stdout",
     "output_type": "stream",
     "text": [
      "[[0.         0.         0.         0.         0.         0.\n",
      "  0.         0.         0.         0.         0.         0.\n",
      "  0.         0.         0.         0.         0.         0.\n",
      "  0.         0.         0.         0.         0.         0.\n",
      "  0.         0.         0.         0.        ]\n",
      " [0.         0.         0.         0.         0.         0.\n",
      "  0.         0.         0.         0.         0.         0.\n",
      "  0.         0.         0.         0.         0.         0.\n",
      "  0.         0.         0.         0.         0.         0.\n",
      "  0.         0.         0.         0.        ]\n",
      " [0.         0.         0.         0.         0.         0.\n",
      "  0.         0.         0.         0.         0.         0.\n",
      "  0.         0.         0.         0.         0.         0.\n",
      "  0.         0.         0.         0.         0.         0.\n",
      "  0.         0.         0.         0.        ]\n",
      " [0.         0.         0.         0.         0.         0.\n",
      "  0.         0.         0.         0.         0.         0.\n",
      "  0.         0.         0.         0.         0.         0.\n",
      "  0.         0.         0.         0.         0.         0.\n",
      "  0.         0.         0.         0.        ]\n",
      " [0.         0.         0.         0.         0.         0.\n",
      "  0.         0.         0.         0.         0.         0.\n",
      "  0.         0.         0.         0.         0.         0.\n",
      "  0.         0.         0.         0.         0.         0.\n",
      "  0.         0.         0.         0.        ]\n",
      " [0.         0.         0.         0.         0.         0.\n",
      "  0.         0.         0.         0.         0.         0.\n",
      "  0.         0.         0.         0.         0.         0.\n",
      "  0.         0.         0.         0.         0.         0.\n",
      "  0.         0.         0.         0.        ]\n",
      " [0.         0.         0.         0.         0.         0.\n",
      "  0.         0.         0.         0.         0.         0.\n",
      "  0.         0.         0.         0.         0.         0.\n",
      "  0.         0.         0.         0.         0.         0.\n",
      "  0.         0.         0.         0.        ]\n",
      " [0.         0.         0.         0.         0.25188219 0.32692193\n",
      "  0.27020861 0.16185719 0.36999973 0.45294327 0.62524212 0.63739272\n",
      "  0.53240277 0.50137968 0.35622381 0.20290227 0.10874433 0.\n",
      "  0.         0.         0.         0.         0.         0.\n",
      "  0.         0.         0.         0.        ]\n",
      " [0.         0.         0.         0.         0.9677579  0.84595261\n",
      "  0.70477092 0.69680894 0.66390023 0.73458107 0.64303356 0.6348833\n",
      "  0.69706342 0.813135   0.57772194 0.36407287 0.28363211 0.17843023\n",
      "  0.01623079 0.         0.         0.         0.         0.\n",
      "  0.         0.         0.         0.        ]\n",
      " [0.         0.         0.         0.         0.         0.42129114\n",
      "  0.65462912 0.69680894 0.64815556 0.50520595 0.44224443 0.43663911\n",
      "  0.48026023 0.29568545 0.1781119  0.24031688 0.26345275 0.26659575\n",
      "  0.2995319  0.         0.         0.         0.         0.\n",
      "  0.         0.         0.         0.        ]\n",
      " [0.         0.         0.         0.         0.         0.\n",
      "  0.04178484 0.0521235  0.04723401 0.         0.         0.\n",
      "  0.         0.         0.         0.         0.11771293 0.26659575\n",
      "  0.3437977  0.         0.         0.         0.         0.\n",
      "  0.         0.         0.         0.        ]\n",
      " [0.         0.         0.         0.         0.         0.\n",
      "  0.         0.         0.         0.         0.         0.\n",
      "  0.         0.         0.         0.         0.1098654  0.26659575\n",
      "  0.3437977  0.         0.         0.         0.         0.\n",
      "  0.         0.         0.         0.        ]\n",
      " [0.         0.         0.         0.         0.         0.\n",
      "  0.         0.         0.         0.         0.         0.\n",
      "  0.         0.         0.         0.         0.11098648 0.26764534\n",
      "  0.34527323 0.         0.         0.         0.         0.\n",
      "  0.         0.         0.         0.        ]\n",
      " [0.         0.         0.         0.         0.         0.\n",
      "  0.         0.         0.         0.         0.         0.\n",
      "  0.         0.         0.         0.         0.1098654  0.26659575\n",
      "  0.3437977  0.         0.         0.         0.         0.\n",
      "  0.         0.         0.         0.        ]\n",
      " [0.         0.         0.         0.         0.         0.\n",
      "  0.         0.         0.         0.         0.         0.\n",
      "  0.         0.         0.         0.         0.1098654  0.26659575\n",
      "  0.3437977  0.         0.         0.         0.         0.\n",
      "  0.         0.         0.         0.        ]\n",
      " [0.         0.         0.         0.         0.         0.\n",
      "  0.         0.         0.         0.         0.         0.\n",
      "  0.         0.         0.         0.         0.1098654  0.26659575\n",
      "  0.3437977  0.         0.         0.         0.         0.\n",
      "  0.         0.         0.         0.        ]\n",
      " [0.         0.         0.         0.         0.         0.\n",
      "  0.         0.         0.         0.         0.         0.\n",
      "  0.         0.         0.         0.         0.19394607 0.26659575\n",
      "  0.3437977  0.         0.         0.         0.         0.\n",
      "  0.         0.         0.         0.        ]\n",
      " [0.         0.         0.         0.         0.         0.\n",
      "  0.         0.         0.         0.         0.         0.\n",
      "  0.         0.         0.         0.         0.2197308  0.26764534\n",
      "  0.20067162 0.         0.         0.         0.         0.\n",
      "  0.         0.         0.         0.        ]\n",
      " [0.         0.         0.         0.         0.         0.\n",
      "  0.         0.         0.         0.         0.         0.\n",
      "  0.         0.         0.         0.04892679 0.27354243 0.26659575\n",
      "  0.18886741 0.         0.         0.         0.         0.\n",
      "  0.         0.         0.         0.        ]\n",
      " [0.         0.         0.         0.         0.         0.\n",
      "  0.         0.         0.         0.         0.         0.\n",
      "  0.         0.         0.         0.15397548 0.28363211 0.26659575\n",
      "  0.05754554 0.         0.         0.         0.         0.\n",
      "  0.         0.         0.         0.        ]\n",
      " [0.         0.         0.         0.         0.         0.\n",
      "  0.         0.         0.         0.         0.         0.\n",
      "  0.         0.         0.         0.19570716 0.28363211 0.25609985\n",
      "  0.04869238 0.         0.         0.         0.         0.\n",
      "  0.         0.         0.         0.        ]\n",
      " [0.         0.         0.         0.         0.         0.\n",
      "  0.         0.         0.         0.         0.         0.\n",
      "  0.         0.         0.         0.25039004 0.28363211 0.20466996\n",
      "  0.         0.         0.         0.         0.         0.\n",
      "  0.         0.         0.         0.        ]\n",
      " [0.         0.         0.         0.         0.         0.\n",
      "  0.         0.         0.         0.         0.         0.\n",
      "  0.         0.         0.         0.33817046 0.28475318 0.20571955\n",
      "  0.         0.         0.         0.         0.         0.\n",
      "  0.         0.         0.         0.        ]\n",
      " [0.         0.         0.         0.         0.         0.\n",
      "  0.         0.         0.         0.         0.         0.\n",
      "  0.         0.         0.16897796 0.3597558  0.28363211 0.15743843\n",
      "  0.         0.         0.         0.         0.         0.\n",
      "  0.         0.         0.         0.        ]\n",
      " [0.         0.         0.         0.         0.         0.\n",
      "  0.         0.         0.         0.         0.         0.\n",
      "  0.         0.         0.39961004 0.36407287 0.28363211 0.10285978\n",
      "  0.         0.         0.         0.         0.         0.\n",
      "  0.         0.         0.         0.        ]\n",
      " [0.         0.         0.         0.         0.         0.\n",
      "  0.         0.         0.         0.         0.         0.\n",
      "  0.         0.         0.39961004 0.36407287 0.28363211 0.00839672\n",
      "  0.         0.         0.         0.         0.         0.\n",
      "  0.         0.         0.         0.        ]\n",
      " [0.         0.         0.         0.         0.         0.\n",
      "  0.         0.         0.         0.         0.         0.\n",
      "  0.         0.         0.39961004 0.36407287 0.19843037 0.\n",
      "  0.         0.         0.         0.         0.         0.\n",
      "  0.         0.         0.         0.        ]\n",
      " [0.         0.         0.         0.         0.         0.\n",
      "  0.         0.         0.         0.         0.         0.\n",
      "  0.         0.         0.         0.         0.         0.\n",
      "  0.         0.         0.         0.         0.         0.\n",
      "  0.         0.         0.         0.        ]]\n"
     ]
    },
    {
     "name": "stdout",
     "output_type": "stream",
     "text": [
      "Predicting a 7\n",
      "\n",
      "it is:\n"
     ]
    },
    {
     "data": {
      "image/png": "[encoded data removed]",
      "text/plain": [
       "<Figure size 432x288 with 1 Axes>"
      ]
     },
     "metadata": {
      "needs_background": "light"
     },
     "output_type": "display_data"
    }
   ],
   "source": [
    "#Prediction\n",
    "index_from_dataset =585\n",
    "print(x_test[585])\n",
    "# print(x_test[66].size)\n",
    "predict = new_model.predict([x_test])\n",
    "print(\"Predicting a\" ,np.argmax(predict[index_from_dataset]))\n",
    "print()\n",
    "print(\"it is:\")\n",
    "# print(x_test[index_from_dataset].size)\n",
    "plt.imshow(x_test[index_from_dataset],cmap=plt.cm.binary)\n",
    "plt.show()"
   ]
  },
  {
   "cell_type": "code",
   "execution_count": 22,
   "id": "b0424380",
   "metadata": {},
   "outputs": [
    {
     "data": {
      "image/png": "[encoded data removed]",
      "text/plain": [
       "<Figure size 720x720 with 2 Axes>"
      ]
     },
     "metadata": {
      "needs_background": "light"
     },
     "output_type": "display_data"
    }
   ],
   "source": [
    "from sklearn.metrics import plot_confusion_matrix, confusion_matrix,accuracy_score, ConfusionMatrixDisplay\n",
    "pred = new_model.predict(x_test)\n",
    "pred = pred.argmax(axis=1)\n",
    "labels = [\"0\",\"1\",\"2\",\"3\",\"4\",\"5\",\"6\",\"7\",\"8\",\"9\"]\n",
    "# Creating Confusion matrix\n",
    "cm=confusion_matrix(pred ,y_test)\n",
    "# Ploting Confusion matrix \n",
    "disp=ConfusionMatrixDisplay(confusion_matrix=cm,display_labels=labels)\n",
    "fig,ax = plt.subplots(figsize=(10,10))\n",
    "disp.plot(ax=ax, cmap = 'plasma');"
   ]
  },
  {
   "cell_type": "code",
   "execution_count": null,
   "id": "23aa9b98",
   "metadata": {},
   "outputs": [],
   "source": []
  }
 ],
 "metadata": {
  "kernelspec": {
   "display_name": "Python 3 (ipykernel)",
   "language": "python",
   "name": "python3"
  },
  "language_info": {
   "codemirror_mode": {
    "name": "ipython",
    "version": 3
   },
   "file_extension": ".py",
   "mimetype": "text/x-python",
   "name": "python",
   "nbconvert_exporter": "python",
   "pygments_lexer": "ipython3",
   "version": "3.9.7"
  }
 },
 "nbformat": 4,
 "nbformat_minor": 5
}
